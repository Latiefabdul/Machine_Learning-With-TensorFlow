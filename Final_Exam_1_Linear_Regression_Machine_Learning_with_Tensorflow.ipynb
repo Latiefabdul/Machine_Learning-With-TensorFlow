{
  "nbformat": 4,
  "nbformat_minor": 0,
  "metadata": {
    "colab": {
      "provenance": [],
      "include_colab_link": true
    },
    "kernelspec": {
      "name": "python3",
      "display_name": "Python 3"
    },
    "language_info": {
      "name": "python"
    }
  },
  "cells": [
    {
      "cell_type": "markdown",
      "metadata": {
        "id": "view-in-github",
        "colab_type": "text"
      },
      "source": [
        "<a href=\"https://colab.research.google.com/github/Latiefabdul/Machine_Learning-With-TensorFlow/blob/main/Final_Exam_1_Linear_Regression_Machine_Learning_with_Tensorflow.ipynb\" target=\"_parent\"><img src=\"https://colab.research.google.com/assets/colab-badge.svg\" alt=\"Open In Colab\"/></a>"
      ]
    },
    {
      "cell_type": "markdown",
      "source": [
        "No 1. Linear Regression"
      ],
      "metadata": {
        "id": "xsIVT16TBbl0"
      }
    },
    {
      "cell_type": "code",
      "source": [
        "data = [0.0 ,1.0 ,2.0 ,3.0 ,4.0 ,5.0 ,6.0 ,7.0 ,8.0 ,9.0]\n",
        "label = [ 1.0,  4.0,  7.0, 10.0, 13.0, 16.0, 19.0, 22.0, 25.0, 28.0]"
      ],
      "metadata": {
        "id": "e5imELjw-CeU"
      },
      "execution_count": 1,
      "outputs": []
    },
    {
      "cell_type": "code",
      "source": [
        "# Silakan menentukan arsitektur model sendiri\n",
        "import tensorflow as tf\n",
        "from tensorflow import keras\n",
        "\n",
        "model = tf.keras.Sequential([keras.layers.Dense(units=1, input_shape=[1])])\n"
      ],
      "metadata": {
        "id": "icfr37Do9e72"
      },
      "execution_count": 2,
      "outputs": []
    },
    {
      "cell_type": "code",
      "source": [
        "# Silakan menentukan loss dan optimizer sendiri\n",
        "model.compile(optimizer=\"sgd\", loss=\"mean_squared_error\")"
      ],
      "metadata": {
        "id": "1wTbAWV69dBW"
      },
      "execution_count": 3,
      "outputs": []
    },
    {
      "cell_type": "code",
      "source": [
        "# Silakan menentukan banyaknya epoch sendiri\n",
        "model.fit(data, label, epochs=500,verbose=0)"
      ],
      "metadata": {
        "id": "9bPKrqMx9bBH",
        "colab": {
          "base_uri": "https://localhost:8080/"
        },
        "outputId": "599b1396-0a3c-43a6-a4ce-c1933e3d6377"
      },
      "execution_count": 4,
      "outputs": [
        {
          "output_type": "execute_result",
          "data": {
            "text/plain": [
              "<keras.callbacks.History at 0x7f6ff461d760>"
            ]
          },
          "metadata": {},
          "execution_count": 4
        }
      ]
    },
    {
      "cell_type": "code",
      "source": [
        "print(model.predict([20]))"
      ],
      "metadata": {
        "id": "teDRWsZ4BltX",
        "colab": {
          "base_uri": "https://localhost:8080/"
        },
        "outputId": "ee0051ae-1b27-411d-80e4-ccf223582039"
      },
      "execution_count": 7,
      "outputs": [
        {
          "output_type": "stream",
          "name": "stdout",
          "text": [
            "1/1 [==============================] - 0s 37ms/step\n",
            "[[61.067223]]\n"
          ]
        }
      ]
    },
    {
      "cell_type": "code",
      "execution_count": 6,
      "metadata": {
        "id": "Bijz4KTJ9R50"
      },
      "outputs": [],
      "source": [
        "#save model menjadi .h5\n",
        "model.save('model1.h5')"
      ]
    }
  ]
}