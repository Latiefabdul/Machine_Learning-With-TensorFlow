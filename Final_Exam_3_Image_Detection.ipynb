{
  "nbformat": 4,
  "nbformat_minor": 0,
  "metadata": {
    "colab": {
      "provenance": [],
      "include_colab_link": true
    },
    "kernelspec": {
      "name": "python3",
      "display_name": "Python 3"
    },
    "language_info": {
      "name": "python"
    }
  },
  "cells": [
    {
      "cell_type": "markdown",
      "metadata": {
        "id": "view-in-github",
        "colab_type": "text"
      },
      "source": [
        "<a href=\"https://colab.research.google.com/github/Latiefabdul/Machine_Learning-With-TensorFlow/blob/main/Final_Exam_3_Image_Detection.ipynb\" target=\"_parent\"><img src=\"https://colab.research.google.com/assets/colab-badge.svg\" alt=\"Open In Colab\"/></a>"
      ]
    },
    {
      "cell_type": "code",
      "execution_count": 1,
      "metadata": {
        "id": "9BbxYkAK0uGE"
      },
      "outputs": [],
      "source": [
        "import tensorflow as tf\n",
        "from tensorflow.keras.preprocessing.image import ImageDataGenerator\n",
        "from sklearn.model_selection import train_test_split\n",
        "import copy, cv2,glob, shutil\n",
        "import os\n",
        "import numpy as np\n",
        "from google.colab import files\n",
        "from keras.preprocessing import image\n",
        "import matplotlib.pyplot as plt\n",
        "import matplotlib.image as mpimg\n",
        "import zipfile"
      ]
    },
    {
      "cell_type": "code",
      "source": [
        "class mC(tf.keras.callbacks.Callback):\n",
        "    def on_epoch_end(self, epoch, logs={}):\n",
        "        if(logs.get('accuracy') > 0.96):\n",
        "            self.model.stop_training = True\n",
        "callbacks = mC()"
      ],
      "metadata": {
        "id": "U2OGarHD09GG"
      },
      "execution_count": 2,
      "outputs": []
    },
    {
      "cell_type": "code",
      "source": [
        "from google.colab import drive\n",
        "\n",
        "!wget --no-check-certificate \\\n",
        "    https://storage.googleapis.com/laurencemoroney-blog.appspot.com/rps.zip \\\n",
        "    -O /tmp/rps.zip"
      ],
      "metadata": {
        "id": "rb3qOx-i1a9M",
        "colab": {
          "base_uri": "https://localhost:8080/"
        },
        "outputId": "3509b8be-f2f2-40f5-b4a9-a031f364567a"
      },
      "execution_count": 3,
      "outputs": [
        {
          "output_type": "stream",
          "name": "stdout",
          "text": [
            "--2022-12-29 16:32:03--  https://storage.googleapis.com/laurencemoroney-blog.appspot.com/rps.zip\n",
            "Resolving storage.googleapis.com (storage.googleapis.com)... 142.250.65.80, 142.250.188.208, 172.217.15.112, ...\n",
            "Connecting to storage.googleapis.com (storage.googleapis.com)|142.250.65.80|:443... connected.\n",
            "HTTP request sent, awaiting response... 200 OK\n",
            "Length: 200682221 (191M) [application/zip]\n",
            "Saving to: ‘/tmp/rps.zip’\n",
            "\n",
            "/tmp/rps.zip        100%[===================>] 191.38M   134MB/s    in 1.4s    \n",
            "\n",
            "2022-12-29 16:32:04 (134 MB/s) - ‘/tmp/rps.zip’ saved [200682221/200682221]\n",
            "\n"
          ]
        }
      ]
    },
    {
      "cell_type": "code",
      "source": [
        "lz = \"/tmp/rps.zip\"\n",
        "zip_ref = zipfile.ZipFile(lz, 'r')\n",
        "zip_ref.extractall('/tmp/data')\n",
        "zip_ref.close()"
      ],
      "metadata": {
        "id": "Ihk0pI1d04Q5"
      },
      "execution_count": 4,
      "outputs": []
    },
    {
      "cell_type": "code",
      "source": [
        "base_dir = '/tmp/rps'\n",
        "data_dir = '/tmp/data/rps'\n",
        "t_dir = os.path.join(base_dir,'train')\n",
        "val_dir = os.path.join(base_dir,'val')\n",
        "roc_dir = os.path.join(data_dir,'rock')\n",
        "pa_dir = os.path.join(data_dir,'paper')\n",
        "sci_dir = os.path.join(data_dir,'scissors')"
      ],
      "metadata": {
        "id": "DbfVyEhZ1eXo"
      },
      "execution_count": 5,
      "outputs": []
    },
    {
      "cell_type": "code",
      "source": [
        "os.mkdir(base_dir)\n",
        "os.mkdir(t_dir)\n",
        "os.mkdir(val_dir)"
      ],
      "metadata": {
        "id": "aq4lFFCc1gdk"
      },
      "execution_count": 6,
      "outputs": []
    },
    {
      "cell_type": "code",
      "source": [
        "tr = os.path.join(t_dir, 'rock')\n",
        "tp = os.path.join(t_dir, 'paper')\n",
        "ts = os.path.join(t_dir, 'scissors')\n",
        "vr = os.path.join(val_dir, 'rock')\n",
        "vp = os.path.join(val_dir, 'paper')\n",
        "vs = os.path.join(val_dir, 'scissors')"
      ],
      "metadata": {
        "id": "16BEltU81iAI"
      },
      "execution_count": 7,
      "outputs": []
    },
    {
      "cell_type": "code",
      "source": [
        "os.mkdir(tr)\n",
        "os.mkdir(tp)\n",
        "os.mkdir(ts)\n",
        "os.mkdir(vr)\n",
        "os.mkdir(vp)\n",
        "os.mkdir(vs)"
      ],
      "metadata": {
        "id": "kDcFCt4_1jdM"
      },
      "execution_count": 8,
      "outputs": []
    },
    {
      "cell_type": "code",
      "source": [
        "train_sci_dir, val_sci_dir = train_test_split(os.listdir(sci_dir), test_size = 0.30)\n",
        "train_roc_dir, val_roc_dir = train_test_split(os.listdir(roc_dir), test_size = 0.30)\n",
        "train_pa_dir, val_pa_dir = train_test_split(os.listdir(pa_dir), test_size = 0.30)"
      ],
      "metadata": {
        "id": "TEZoOn2g1lHZ"
      },
      "execution_count": 9,
      "outputs": []
    },
    {
      "cell_type": "code",
      "source": [
        "for file in train_roc_dir:\n",
        "    shutil.copy(os.path.join(roc_dir, file), os.path.join(tr, file))\n",
        "for file in val_roc_dir:\n",
        "    shutil.copy(os.path.join(roc_dir, file), os.path.join(vr,file))\n",
        "for file in train_pa_dir:\n",
        "    shutil.copy(os.path.join(pa_dir,file), os.path.join(tp,file))\n",
        "for file in val_pa_dir:\n",
        "    shutil.copy(os.path.join(pa_dir,file), os.path.join(vp,file))\n",
        "for file in train_sci_dir:\n",
        "    shutil.copy(os.path.join(sci_dir,file), os.path.join(ts,file))\n",
        "for file in val_sci_dir:\n",
        "    shutil.copy(os.path.join(sci_dir,file), os.path.join(vs,file))"
      ],
      "metadata": {
        "id": "jYCumbV8k5e1"
      },
      "execution_count": 10,
      "outputs": []
    },
    {
      "cell_type": "code",
      "source": [
        "train_datagen = ImageDataGenerator(\n",
        "    rescale = 1./255,\n",
        "    rotation_range = 20,\n",
        "    horizontal_flip = True,\n",
        "    shear_range = 0.35,\n",
        "    fill_mode = 'nearest',\n",
        ")\n",
        "\n",
        "test_datagen = ImageDataGenerator(\n",
        "    rescale = 1./225,\n",
        "    rotation_range = 20,\n",
        "    horizontal_flip = True,\n",
        "    vertical_flip = True,\n",
        "    shear_range = 0.35,\n",
        "    fill_mode = 'nearest'\n",
        ")"
      ],
      "metadata": {
        "id": "ZWf1LPeb1n2Y"
      },
      "execution_count": 11,
      "outputs": []
    },
    {
      "cell_type": "code",
      "source": [
        "train_generator = train_datagen.flow_from_directory(\n",
        "    t_dir,\n",
        "    target_size=(150,150),\n",
        "    batch_size= 32,\n",
        "    class_mode='categorical'\n",
        ")\n",
        "\n",
        "val_generator = test_datagen.flow_from_directory(\n",
        "    val_dir,\n",
        "    target_size = (150,150),\n",
        "    batch_size = 32,\n",
        "    class_mode = 'categorical'\n",
        ")"
      ],
      "metadata": {
        "id": "Iki1SLee1vRl",
        "colab": {
          "base_uri": "https://localhost:8080/"
        },
        "outputId": "ca407ee3-b3f9-429e-f93c-6230c942be5c"
      },
      "execution_count": 12,
      "outputs": [
        {
          "output_type": "stream",
          "name": "stdout",
          "text": [
            "Found 1764 images belonging to 3 classes.\n",
            "Found 756 images belonging to 3 classes.\n"
          ]
        }
      ]
    },
    {
      "cell_type": "code",
      "source": [
        "#Buatlah model dengan output layer 3\n",
        "model = tf.keras.models.Sequential([\n",
        "  tf.keras.layers.Conv2D(32, (3,3), activation = 'relu', input_shape= (150,150,3)),\n",
        "  tf.keras.layers.MaxPooling2D(2,2),\n",
        "  tf.keras.layers.Conv2D(32,(3,3), activation= 'relu'),\n",
        "  tf.keras.layers.MaxPooling2D(2,2),\n",
        "  tf.keras.layers.Conv2D(128,(3,3), activation= 'relu'),\n",
        "  tf.keras.layers.MaxPooling2D(2,2),\n",
        "  tf.keras.layers.Flatten(),\n",
        "  tf.keras.layers.Dropout(0.5),\n",
        "  tf.keras.layers.Dense(512, activation= 'relu'),\n",
        "  tf.keras.layers.Dense(3, activation= 'softmax')\n",
        "])\n"
      ],
      "metadata": {
        "id": "WLDV_5-U1wtA"
      },
      "execution_count": 13,
      "outputs": []
    },
    {
      "cell_type": "code",
      "source": [
        "#gunakan loss categorical_crossentropy\n",
        "model.compile(loss='categorical_crossentropy',\n",
        "              optimizer=tf.optimizers.Adam(),\n",
        "              metrics=['accuracy'])"
      ],
      "metadata": {
        "id": "VT34PXzG1yk6"
      },
      "execution_count": 14,
      "outputs": []
    },
    {
      "cell_type": "code",
      "source": [
        "#train model\n",
        "history = model.fit(\n",
        "    train_generator,\n",
        "    steps_per_epoch = 41, \n",
        "    epochs = 30,\n",
        "    validation_data = val_generator,\n",
        "    validation_steps = 27, \n",
        "    verbose=1,\n",
        "    callbacks=[callbacks]\n",
        ")"
      ],
      "metadata": {
        "id": "30VVIThO2Db5",
        "colab": {
          "base_uri": "https://localhost:8080/"
        },
        "outputId": "3fdb9fda-30ef-48cc-fd71-554297a28550"
      },
      "execution_count": 15,
      "outputs": [
        {
          "output_type": "stream",
          "name": "stdout",
          "text": [
            "Epoch 1/30\n",
            "41/41 [==============================] - ETA: 0s - loss: 1.3287 - accuracy: 0.4482"
          ]
        },
        {
          "output_type": "stream",
          "name": "stderr",
          "text": [
            "WARNING:tensorflow:Your input ran out of data; interrupting training. Make sure that your dataset or generator can generate at least `steps_per_epoch * epochs` batches (in this case, 27 batches). You may need to use the repeat() function when building your dataset.\n"
          ]
        },
        {
          "output_type": "stream",
          "name": "stdout",
          "text": [
            "\b\b\b\b\b\b\b\b\b\b\b\b\b\b\b\b\b\b\b\b\b\b\b\b\b\b\b\b\b\b\b\b\b\b\b\b\b\b\b\b\b\b\b\b\b\b\b\b\b\b\b\b\b\b\b\b\b\b\b\b\b\b\b\b\b\b\b\b\b\b\b\b\b\b\b\b\b\b\b\b\b\b\r41/41 [==============================] - 78s 2s/step - loss: 1.3287 - accuracy: 0.4482 - val_loss: 1.1861 - val_accuracy: 0.4497\n",
            "Epoch 2/30\n",
            "41/41 [==============================] - 62s 1s/step - loss: 0.6544 - accuracy: 0.7073\n",
            "Epoch 3/30\n",
            "41/41 [==============================] - 60s 1s/step - loss: 0.2695 - accuracy: 0.9097\n",
            "Epoch 4/30\n",
            "41/41 [==============================] - 60s 1s/step - loss: 0.1700 - accuracy: 0.9424\n",
            "Epoch 5/30\n",
            "41/41 [==============================] - 64s 2s/step - loss: 0.1020 - accuracy: 0.9696\n"
          ]
        }
      ]
    },
    {
      "cell_type": "code",
      "source": [
        "#save model\n",
        "model.save('Model3.h5')"
      ],
      "metadata": {
        "id": "vx2_y2Wg2Kcz"
      },
      "execution_count": 16,
      "outputs": []
    }
  ]
}