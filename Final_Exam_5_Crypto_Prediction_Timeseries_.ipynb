{
  "nbformat": 4,
  "nbformat_minor": 0,
  "metadata": {
    "colab": {
      "provenance": [],
      "include_colab_link": true
    },
    "kernelspec": {
      "name": "python3",
      "display_name": "Python 3"
    },
    "language_info": {
      "name": "python"
    }
  },
  "cells": [
    {
      "cell_type": "markdown",
      "metadata": {
        "id": "view-in-github",
        "colab_type": "text"
      },
      "source": [
        "<a href=\"https://colab.research.google.com/github/Latiefabdul/Machine_Learning-With_TensorFlow/blob/main/Final_Exam_5_Crypto_Prediction_Timeseries_.ipynb\" target=\"_parent\"><img src=\"https://colab.research.google.com/assets/colab-badge.svg\" alt=\"Open In Colab\"/></a>"
      ]
    },
    {
      "cell_type": "markdown",
      "source": [
        "No. 5 Time Series"
      ],
      "metadata": {
        "id": "r_Y0EDyJt5qb"
      }
    },
    {
      "cell_type": "code",
      "execution_count": null,
      "metadata": {
        "id": "mUQWtDIcqWRK"
      },
      "outputs": [],
      "source": [
        "import numpy as np # linear algebra\n",
        "import pandas as pd # data processing, CSV file I/O (e.g. pd.read_csv)\n",
        "import tensorflow as tf # Deep learning library\n",
        "import matplotlib.pyplot as plt # Visualization\n",
        "from sklearn.model_selection import train_test_split\n",
        "from sklearn.preprocessing import MinMaxScaler"
      ]
    },
    {
      "cell_type": "code",
      "source": [
        "from google.colab import drive\n",
        "drive.mount('/content/drive')"
      ],
      "metadata": {
        "id": "Zs5gbYkTqcVM",
        "colab": {
          "base_uri": "https://localhost:8080/"
        },
        "outputId": "1b113f98-ff3b-4e7a-834a-371736c6cad7"
      },
      "execution_count": null,
      "outputs": [
        {
          "output_type": "stream",
          "name": "stdout",
          "text": [
            "Drive already mounted at /content/drive; to attempt to forcibly remount, call drive.mount(\"/content/drive\", force_remount=True).\n"
          ]
        }
      ]
    },
    {
      "cell_type": "code",
      "source": [
        "df = pd.read_csv('/content/drive/MyDrive/Cryptocurrency2020.csv')\n",
        "df"
      ],
      "metadata": {
        "id": "OInZhmPWqYYZ",
        "colab": {
          "base_uri": "https://localhost:8080/",
          "height": 424
        },
        "outputId": "2d33eb2b-97ea-4ed4-c382-2fd7a9ba350e"
      },
      "execution_count": null,
      "outputs": [
        {
          "output_type": "execute_result",
          "data": {
            "text/plain": [
              "        Unix Timestamp             Date  Symbol      Open      High       Low  \\\n",
              "0         1.618880e+12   4/20/2021 0:02  BTCUSD  55717.47  55723.00  55541.69   \n",
              "1         1.618880e+12   4/20/2021 0:01  BTCUSD  55768.94  55849.82  55711.74   \n",
              "2         1.618880e+12   4/20/2021 0:00  BTCUSD  55691.79  55793.15  55691.79   \n",
              "3         1.618880e+12  4/19/2021 23:59  BTCUSD  55777.86  55777.86  55677.92   \n",
              "4         1.618880e+12  4/19/2021 23:58  BTCUSD  55803.50  55823.88  55773.08   \n",
              "...                ...              ...     ...       ...       ...       ...   \n",
              "658060    1.577840e+12    1/1/2020 0:04  BTCUSD   7163.60   7163.60   7163.00   \n",
              "658061    1.577840e+12    1/1/2020 0:03  BTCUSD   7163.00   7163.60   7163.00   \n",
              "658062    1.577840e+12    1/1/2020 0:02  BTCUSD   7163.30   7164.22   7163.00   \n",
              "658063    1.577840e+12    1/1/2020 0:01  BTCUSD   7163.30   7164.23   7163.30   \n",
              "658064    1.577840e+12    1/1/2020 0:00  BTCUSD   7165.90   7170.79   7163.30   \n",
              "\n",
              "           Close    Volume  \n",
              "0       55541.69  2.406734  \n",
              "1       55717.47  0.573458  \n",
              "2       55768.94  3.309904  \n",
              "3       55691.79  0.684934  \n",
              "4       55777.86  0.477225  \n",
              "...          ...       ...  \n",
              "658060   7163.00  1.751844  \n",
              "658061   7163.60  0.002706  \n",
              "658062   7163.00  0.063904  \n",
              "658063   7163.30  0.002646  \n",
              "658064   7163.30  0.007931  \n",
              "\n",
              "[658065 rows x 8 columns]"
            ],
            "text/html": [
              "\n",
              "  <div id=\"df-c1286fb7-8808-4ac6-a645-b40d3ee894cc\">\n",
              "    <div class=\"colab-df-container\">\n",
              "      <div>\n",
              "<style scoped>\n",
              "    .dataframe tbody tr th:only-of-type {\n",
              "        vertical-align: middle;\n",
              "    }\n",
              "\n",
              "    .dataframe tbody tr th {\n",
              "        vertical-align: top;\n",
              "    }\n",
              "\n",
              "    .dataframe thead th {\n",
              "        text-align: right;\n",
              "    }\n",
              "</style>\n",
              "<table border=\"1\" class=\"dataframe\">\n",
              "  <thead>\n",
              "    <tr style=\"text-align: right;\">\n",
              "      <th></th>\n",
              "      <th>Unix Timestamp</th>\n",
              "      <th>Date</th>\n",
              "      <th>Symbol</th>\n",
              "      <th>Open</th>\n",
              "      <th>High</th>\n",
              "      <th>Low</th>\n",
              "      <th>Close</th>\n",
              "      <th>Volume</th>\n",
              "    </tr>\n",
              "  </thead>\n",
              "  <tbody>\n",
              "    <tr>\n",
              "      <th>0</th>\n",
              "      <td>1.618880e+12</td>\n",
              "      <td>4/20/2021 0:02</td>\n",
              "      <td>BTCUSD</td>\n",
              "      <td>55717.47</td>\n",
              "      <td>55723.00</td>\n",
              "      <td>55541.69</td>\n",
              "      <td>55541.69</td>\n",
              "      <td>2.406734</td>\n",
              "    </tr>\n",
              "    <tr>\n",
              "      <th>1</th>\n",
              "      <td>1.618880e+12</td>\n",
              "      <td>4/20/2021 0:01</td>\n",
              "      <td>BTCUSD</td>\n",
              "      <td>55768.94</td>\n",
              "      <td>55849.82</td>\n",
              "      <td>55711.74</td>\n",
              "      <td>55717.47</td>\n",
              "      <td>0.573458</td>\n",
              "    </tr>\n",
              "    <tr>\n",
              "      <th>2</th>\n",
              "      <td>1.618880e+12</td>\n",
              "      <td>4/20/2021 0:00</td>\n",
              "      <td>BTCUSD</td>\n",
              "      <td>55691.79</td>\n",
              "      <td>55793.15</td>\n",
              "      <td>55691.79</td>\n",
              "      <td>55768.94</td>\n",
              "      <td>3.309904</td>\n",
              "    </tr>\n",
              "    <tr>\n",
              "      <th>3</th>\n",
              "      <td>1.618880e+12</td>\n",
              "      <td>4/19/2021 23:59</td>\n",
              "      <td>BTCUSD</td>\n",
              "      <td>55777.86</td>\n",
              "      <td>55777.86</td>\n",
              "      <td>55677.92</td>\n",
              "      <td>55691.79</td>\n",
              "      <td>0.684934</td>\n",
              "    </tr>\n",
              "    <tr>\n",
              "      <th>4</th>\n",
              "      <td>1.618880e+12</td>\n",
              "      <td>4/19/2021 23:58</td>\n",
              "      <td>BTCUSD</td>\n",
              "      <td>55803.50</td>\n",
              "      <td>55823.88</td>\n",
              "      <td>55773.08</td>\n",
              "      <td>55777.86</td>\n",
              "      <td>0.477225</td>\n",
              "    </tr>\n",
              "    <tr>\n",
              "      <th>...</th>\n",
              "      <td>...</td>\n",
              "      <td>...</td>\n",
              "      <td>...</td>\n",
              "      <td>...</td>\n",
              "      <td>...</td>\n",
              "      <td>...</td>\n",
              "      <td>...</td>\n",
              "      <td>...</td>\n",
              "    </tr>\n",
              "    <tr>\n",
              "      <th>658060</th>\n",
              "      <td>1.577840e+12</td>\n",
              "      <td>1/1/2020 0:04</td>\n",
              "      <td>BTCUSD</td>\n",
              "      <td>7163.60</td>\n",
              "      <td>7163.60</td>\n",
              "      <td>7163.00</td>\n",
              "      <td>7163.00</td>\n",
              "      <td>1.751844</td>\n",
              "    </tr>\n",
              "    <tr>\n",
              "      <th>658061</th>\n",
              "      <td>1.577840e+12</td>\n",
              "      <td>1/1/2020 0:03</td>\n",
              "      <td>BTCUSD</td>\n",
              "      <td>7163.00</td>\n",
              "      <td>7163.60</td>\n",
              "      <td>7163.00</td>\n",
              "      <td>7163.60</td>\n",
              "      <td>0.002706</td>\n",
              "    </tr>\n",
              "    <tr>\n",
              "      <th>658062</th>\n",
              "      <td>1.577840e+12</td>\n",
              "      <td>1/1/2020 0:02</td>\n",
              "      <td>BTCUSD</td>\n",
              "      <td>7163.30</td>\n",
              "      <td>7164.22</td>\n",
              "      <td>7163.00</td>\n",
              "      <td>7163.00</td>\n",
              "      <td>0.063904</td>\n",
              "    </tr>\n",
              "    <tr>\n",
              "      <th>658063</th>\n",
              "      <td>1.577840e+12</td>\n",
              "      <td>1/1/2020 0:01</td>\n",
              "      <td>BTCUSD</td>\n",
              "      <td>7163.30</td>\n",
              "      <td>7164.23</td>\n",
              "      <td>7163.30</td>\n",
              "      <td>7163.30</td>\n",
              "      <td>0.002646</td>\n",
              "    </tr>\n",
              "    <tr>\n",
              "      <th>658064</th>\n",
              "      <td>1.577840e+12</td>\n",
              "      <td>1/1/2020 0:00</td>\n",
              "      <td>BTCUSD</td>\n",
              "      <td>7165.90</td>\n",
              "      <td>7170.79</td>\n",
              "      <td>7163.30</td>\n",
              "      <td>7163.30</td>\n",
              "      <td>0.007931</td>\n",
              "    </tr>\n",
              "  </tbody>\n",
              "</table>\n",
              "<p>658065 rows × 8 columns</p>\n",
              "</div>\n",
              "      <button class=\"colab-df-convert\" onclick=\"convertToInteractive('df-c1286fb7-8808-4ac6-a645-b40d3ee894cc')\"\n",
              "              title=\"Convert this dataframe to an interactive table.\"\n",
              "              style=\"display:none;\">\n",
              "        \n",
              "  <svg xmlns=\"http://www.w3.org/2000/svg\" height=\"24px\"viewBox=\"0 0 24 24\"\n",
              "       width=\"24px\">\n",
              "    <path d=\"M0 0h24v24H0V0z\" fill=\"none\"/>\n",
              "    <path d=\"M18.56 5.44l.94 2.06.94-2.06 2.06-.94-2.06-.94-.94-2.06-.94 2.06-2.06.94zm-11 1L8.5 8.5l.94-2.06 2.06-.94-2.06-.94L8.5 2.5l-.94 2.06-2.06.94zm10 10l.94 2.06.94-2.06 2.06-.94-2.06-.94-.94-2.06-.94 2.06-2.06.94z\"/><path d=\"M17.41 7.96l-1.37-1.37c-.4-.4-.92-.59-1.43-.59-.52 0-1.04.2-1.43.59L10.3 9.45l-7.72 7.72c-.78.78-.78 2.05 0 2.83L4 21.41c.39.39.9.59 1.41.59.51 0 1.02-.2 1.41-.59l7.78-7.78 2.81-2.81c.8-.78.8-2.07 0-2.86zM5.41 20L4 18.59l7.72-7.72 1.47 1.35L5.41 20z\"/>\n",
              "  </svg>\n",
              "      </button>\n",
              "      \n",
              "  <style>\n",
              "    .colab-df-container {\n",
              "      display:flex;\n",
              "      flex-wrap:wrap;\n",
              "      gap: 12px;\n",
              "    }\n",
              "\n",
              "    .colab-df-convert {\n",
              "      background-color: #E8F0FE;\n",
              "      border: none;\n",
              "      border-radius: 50%;\n",
              "      cursor: pointer;\n",
              "      display: none;\n",
              "      fill: #1967D2;\n",
              "      height: 32px;\n",
              "      padding: 0 0 0 0;\n",
              "      width: 32px;\n",
              "    }\n",
              "\n",
              "    .colab-df-convert:hover {\n",
              "      background-color: #E2EBFA;\n",
              "      box-shadow: 0px 1px 2px rgba(60, 64, 67, 0.3), 0px 1px 3px 1px rgba(60, 64, 67, 0.15);\n",
              "      fill: #174EA6;\n",
              "    }\n",
              "\n",
              "    [theme=dark] .colab-df-convert {\n",
              "      background-color: #3B4455;\n",
              "      fill: #D2E3FC;\n",
              "    }\n",
              "\n",
              "    [theme=dark] .colab-df-convert:hover {\n",
              "      background-color: #434B5C;\n",
              "      box-shadow: 0px 1px 3px 1px rgba(0, 0, 0, 0.15);\n",
              "      filter: drop-shadow(0px 1px 2px rgba(0, 0, 0, 0.3));\n",
              "      fill: #FFFFFF;\n",
              "    }\n",
              "  </style>\n",
              "\n",
              "      <script>\n",
              "        const buttonEl =\n",
              "          document.querySelector('#df-c1286fb7-8808-4ac6-a645-b40d3ee894cc button.colab-df-convert');\n",
              "        buttonEl.style.display =\n",
              "          google.colab.kernel.accessAllowed ? 'block' : 'none';\n",
              "\n",
              "        async function convertToInteractive(key) {\n",
              "          const element = document.querySelector('#df-c1286fb7-8808-4ac6-a645-b40d3ee894cc');\n",
              "          const dataTable =\n",
              "            await google.colab.kernel.invokeFunction('convertToInteractive',\n",
              "                                                     [key], {});\n",
              "          if (!dataTable) return;\n",
              "\n",
              "          const docLinkHtml = 'Like what you see? Visit the ' +\n",
              "            '<a target=\"_blank\" href=https://colab.research.google.com/notebooks/data_table.ipynb>data table notebook</a>'\n",
              "            + ' to learn more about interactive tables.';\n",
              "          element.innerHTML = '';\n",
              "          dataTable['output_type'] = 'display_data';\n",
              "          await google.colab.output.renderOutput(dataTable, element);\n",
              "          const docLink = document.createElement('div');\n",
              "          docLink.innerHTML = docLinkHtml;\n",
              "          element.appendChild(docLink);\n",
              "        }\n",
              "      </script>\n",
              "    </div>\n",
              "  </div>\n",
              "  "
            ]
          },
          "metadata": {},
          "execution_count": 3
        }
      ]
    },
    {
      "cell_type": "code",
      "source": [
        "def windowed_dataset(series, window_size, batch_size, shuffle_buffer):\n",
        "    series = tf.expand_dims(series, axis=-1)\n",
        "    ds = tf.data.Dataset.from_tensor_slices(series)\n",
        "    ds = ds.window(window_size + 1, shift=1, drop_remainder=True)\n",
        "    ds = ds.flat_map(lambda w: w.batch(window_size + 1))\n",
        "    if shuffle_buffer > 0:\n",
        "        ds = ds.shuffle(shuffle_buffer)\n",
        "    ds = ds.map(lambda w: (w[:-1], w[-1:]))\n",
        "    return ds.batch(batch_size).prefetch(1)\n",
        "\n",
        "train, val = train_test_split(df.iloc[:, 3:], test_size=0.2, shuffle=False)\n",
        "scaler = MinMaxScaler().fit(train)\n",
        "train = scaler.transform(train)[:, 0]\n",
        "val = scaler.transform(val)[:, 0]\n",
        "train = windowed_dataset(train, window_size=64, batch_size=128, shuffle_buffer=1000)\n",
        "val = windowed_dataset(val, window_size=64, batch_size=128, shuffle_buffer=1000)"
      ],
      "metadata": {
        "id": "2OD5u6ubrLoa"
      },
      "execution_count": null,
      "outputs": []
    },
    {
      "cell_type": "code",
      "source": [
        "#Buatlah model dengan input layer disarankan menggunakan LSTM LSTM dan output layer 1 \n",
        "model = tf.keras.models.Sequential([\n",
        "    tf.keras.layers.LSTM(64, return_sequences=True, input_shape=(64,1)),\n",
        "    tf.keras.layers.LSTM(32),\n",
        "    tf.keras.layers.Dense(32, activation=tf.keras.activations.swish),\n",
        "    tf.keras.layers.Dense(1),\n",
        "])"
      ],
      "metadata": {
        "id": "I4SG72XIrQf9"
      },
      "execution_count": null,
      "outputs": []
    },
    {
      "cell_type": "code",
      "source": [
        "#gunakan loss MAE, optimizer boleh bebas memilih\n",
        "model.compile(\n",
        "    loss=tf.keras.losses.Huber(),\n",
        "    optimizer=tf.keras.optimizers.Adam(1e-3),\n",
        "    metrics=[\"mae\"]\n",
        ")"
      ],
      "metadata": {
        "id": "uGFmyyVzrjY5"
      },
      "execution_count": null,
      "outputs": []
    },
    {
      "cell_type": "code",
      "source": [
        "callbacks=[\n",
        "        tf.keras.callbacks.EarlyStopping(\n",
        "            patience=10, \n",
        "            restore_best_weights=True\n",
        "        ), \n",
        "        tf.keras.callbacks.ReduceLROnPlateau(\n",
        "            monitor='val_loss',\n",
        "            patience=5\n",
        "        )\n",
        "    ]"
      ],
      "metadata": {
        "id": "tu8MSNWps7gO"
      },
      "execution_count": null,
      "outputs": []
    },
    {
      "cell_type": "code",
      "source": [
        "#silakan menentukan banyaknya epoch sendiri\n",
        "history = model.fit(\n",
        "    train,\n",
        "    epochs=50,\n",
        "    validation_data=val,\n",
        "    callbacks=[callbacks]\n",
        "        )"
      ],
      "metadata": {
        "id": "4mmL1W1Psobe",
        "colab": {
          "base_uri": "https://localhost:8080/"
        },
        "outputId": "4cca1611-5225-436f-d2a0-3c04828d1c60"
      },
      "execution_count": null,
      "outputs": [
        {
          "output_type": "stream",
          "name": "stdout",
          "text": [
            "Epoch 1/50\n",
            "4113/4113 [==============================] - 588s 140ms/step - loss: 3.9183e-04 - mae: 0.0043 - val_loss: 3.7400e-06 - val_mae: 0.0025 - lr: 0.0010\n",
            "Epoch 2/50\n",
            "4113/4113 [==============================] - 573s 139ms/step - loss: 1.4752e-05 - mae: 0.0017 - val_loss: 3.4333e-07 - val_mae: 6.4629e-04 - lr: 0.0010\n",
            "Epoch 3/50\n",
            "4113/4113 [==============================] - 572s 139ms/step - loss: 3.3276e-05 - mae: 0.0023 - val_loss: 7.4143e-07 - val_mae: 0.0011 - lr: 0.0010\n",
            "Epoch 4/50\n",
            "4113/4113 [==============================] - 569s 138ms/step - loss: 7.8050e-06 - mae: 0.0014 - val_loss: 1.7348e-06 - val_mae: 0.0017 - lr: 0.0010\n",
            "Epoch 5/50\n",
            "4113/4113 [==============================] - 567s 138ms/step - loss: 1.4388e-05 - mae: 0.0015 - val_loss: 1.1681e-06 - val_mae: 0.0014 - lr: 0.0010\n",
            "Epoch 6/50\n",
            "4113/4113 [==============================] - 564s 137ms/step - loss: 7.8410e-06 - mae: 0.0013 - val_loss: 1.0091e-06 - val_mae: 0.0013 - lr: 0.0010\n",
            "Epoch 7/50\n",
            "4113/4113 [==============================] - 566s 138ms/step - loss: 1.1738e-06 - mae: 7.2167e-04 - val_loss: 3.7305e-07 - val_mae: 7.5403e-04 - lr: 1.0000e-04\n",
            "Epoch 8/50\n",
            "4113/4113 [==============================] - 564s 137ms/step - loss: 8.8005e-07 - mae: 6.4612e-04 - val_loss: 1.5997e-07 - val_mae: 4.6370e-04 - lr: 1.0000e-04\n",
            "Epoch 9/50\n",
            "4113/4113 [==============================] - 568s 138ms/step - loss: 8.0254e-07 - mae: 6.1866e-04 - val_loss: 9.1373e-08 - val_mae: 3.0143e-04 - lr: 1.0000e-04\n",
            "Epoch 10/50\n",
            "4113/4113 [==============================] - 565s 137ms/step - loss: 7.8271e-07 - mae: 6.0743e-04 - val_loss: 8.8416e-08 - val_mae: 2.6497e-04 - lr: 1.0000e-04\n",
            "Epoch 11/50\n",
            "4113/4113 [==============================] - 566s 138ms/step - loss: 7.3256e-07 - mae: 5.9013e-04 - val_loss: 8.5936e-08 - val_mae: 3.0569e-04 - lr: 1.0000e-04\n",
            "Epoch 12/50\n",
            "4113/4113 [==============================] - 565s 137ms/step - loss: 6.4009e-07 - mae: 5.4941e-04 - val_loss: 1.0999e-07 - val_mae: 3.5967e-04 - lr: 1.0000e-05\n",
            "Epoch 13/50\n",
            "4113/4113 [==============================] - 566s 138ms/step - loss: 6.3554e-07 - mae: 5.4714e-04 - val_loss: 1.1028e-07 - val_mae: 3.6386e-04 - lr: 1.0000e-05\n",
            "Epoch 14/50\n",
            "4113/4113 [==============================] - 562s 137ms/step - loss: 6.3023e-07 - mae: 5.4448e-04 - val_loss: 1.0968e-07 - val_mae: 3.6331e-04 - lr: 1.0000e-05\n",
            "Epoch 15/50\n",
            "4113/4113 [==============================] - 567s 138ms/step - loss: 6.2600e-07 - mae: 5.4255e-04 - val_loss: 1.0342e-07 - val_mae: 3.4791e-04 - lr: 1.0000e-05\n",
            "Epoch 16/50\n",
            "4113/4113 [==============================] - 565s 137ms/step - loss: 6.2251e-07 - mae: 5.4104e-04 - val_loss: 1.0418e-07 - val_mae: 3.5142e-04 - lr: 1.0000e-05\n",
            "Epoch 17/50\n",
            "4113/4113 [==============================] - 570s 138ms/step - loss: 6.1404e-07 - mae: 5.3612e-04 - val_loss: 1.0285e-07 - val_mae: 3.4856e-04 - lr: 1.0000e-06\n",
            "Epoch 18/50\n",
            "4113/4113 [==============================] - 565s 137ms/step - loss: 6.1316e-07 - mae: 5.3567e-04 - val_loss: 1.0491e-07 - val_mae: 3.5394e-04 - lr: 1.0000e-06\n",
            "Epoch 19/50\n",
            "4113/4113 [==============================] - 565s 137ms/step - loss: 6.1258e-07 - mae: 5.3545e-04 - val_loss: 1.0624e-07 - val_mae: 3.5776e-04 - lr: 1.0000e-06\n",
            "Epoch 20/50\n",
            "4113/4113 [==============================] - 565s 137ms/step - loss: 6.1215e-07 - mae: 5.3520e-04 - val_loss: 1.0406e-07 - val_mae: 3.5201e-04 - lr: 1.0000e-06\n",
            "Epoch 21/50\n",
            "4113/4113 [==============================] - 567s 138ms/step - loss: 6.1123e-07 - mae: 5.3479e-04 - val_loss: 1.0615e-07 - val_mae: 3.5689e-04 - lr: 1.0000e-06\n"
          ]
        }
      ]
    },
    {
      "cell_type": "code",
      "source": [
        "#save model menjadi .h5\n",
        "model.save('model5.h5')"
      ],
      "metadata": {
        "id": "44072zMxuM1U"
      },
      "execution_count": null,
      "outputs": []
    }
  ]
}