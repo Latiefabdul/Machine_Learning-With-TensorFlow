{
  "nbformat": 4,
  "nbformat_minor": 0,
  "metadata": {
    "colab": {
      "provenance": [],
      "include_colab_link": true
    },
    "kernelspec": {
      "name": "python3",
      "display_name": "Python 3"
    },
    "language_info": {
      "name": "python"
    }
  },
  "cells": [
    {
      "cell_type": "markdown",
      "metadata": {
        "id": "view-in-github",
        "colab_type": "text"
      },
      "source": [
        "<a href=\"https://colab.research.google.com/github/Latiefabdul/Machine_Learning-With-TensorFlow/blob/main/Final_Exam_2_Computer_Vision.ipynb\" target=\"_parent\"><img src=\"https://colab.research.google.com/assets/colab-badge.svg\" alt=\"Open In Colab\"/></a>"
      ]
    },
    {
      "cell_type": "markdown",
      "source": [
        "No. 2 Computer Vision"
      ],
      "metadata": {
        "id": "vEE_lf0F2ORm"
      }
    },
    {
      "cell_type": "code",
      "source": [
        "# Import, Split, dan Normalisasi Data. Boleh diubah splitnya jika mau.\n",
        "import tensorflow as tf\n",
        "from tensorflow import keras\n",
        "\n",
        "mnist = tf.keras.datasets.mnist\n",
        "\n",
        "(train_data, train_label), (test_data, test_label) = mnist.load_data()\n",
        "\n",
        "train_data = train_data/255\n",
        "test_data = test_data/255"
      ],
      "metadata": {
        "colab": {
          "base_uri": "https://localhost:8080/"
        },
        "id": "ps4zDRyC2t6M",
        "outputId": "1d222db3-e120-42f5-8e41-cc658e70e96a"
      },
      "execution_count": 1,
      "outputs": [
        {
          "output_type": "stream",
          "name": "stdout",
          "text": [
            "Downloading data from https://storage.googleapis.com/tensorflow/tf-keras-datasets/mnist.npz\n",
            "11490434/11490434 [==============================] - 0s 0us/step\n"
          ]
        }
      ]
    },
    {
      "cell_type": "code",
      "source": [
        "from google.colab import drive\n",
        "drive.mount('/content/drive')"
      ],
      "metadata": {
        "id": "h-qCdJo-6Tji",
        "colab": {
          "base_uri": "https://localhost:8080/"
        },
        "outputId": "7819257b-0e81-452b-bee8-78625e6ae574"
      },
      "execution_count": 2,
      "outputs": [
        {
          "output_type": "stream",
          "name": "stdout",
          "text": [
            "Mounted at /content/drive\n"
          ]
        }
      ]
    },
    {
      "cell_type": "code",
      "source": [
        "# Silakan menentukan arsitektur model sendiri\n",
        "\n",
        "model = tf.keras.models.Sequential([\n",
        "                                    tf.keras.layers.Conv2D(16, (3,3), activation=\"relu\", input_shape=(28,28,1)),\n",
        "                                    tf.keras.layers.MaxPooling2D(2,2),\n",
        "                                    tf.keras.layers.Conv2D(16, (3,3), activation=\"relu\"),\n",
        "                                    tf.keras.layers.MaxPooling2D(2,2),\n",
        "                                    tf.keras.layers.Flatten(),\n",
        "                                    tf.keras.layers.Dense(512, activation=tf.nn.relu),\n",
        "                                    tf.keras.layers.Dense(256, activation=tf.nn.relu),\n",
        "                                    tf.keras.layers.Dense(10, activation=tf.nn.softmax)\n",
        "                                    ])"
      ],
      "metadata": {
        "id": "wZc9mxJz5uHs"
      },
      "execution_count": 3,
      "outputs": []
    },
    {
      "cell_type": "code",
      "source": [
        "# Silakan menentukan loss dan optimizer sendiri\n",
        "model.compile(optimizer=\"adam\", loss=\"sparse_categorical_crossentropy\", metrics = [\"accuracy\"])"
      ],
      "metadata": {
        "id": "L7Dqv2co5VhY"
      },
      "execution_count": 4,
      "outputs": []
    },
    {
      "cell_type": "code",
      "source": [
        "# Silakan menentukan banyaknya epoch sendiri\n",
        "model.fit(train_data, train_label, epochs=5, verbose = 1)"
      ],
      "metadata": {
        "id": "XJUcvnLF5Tbo",
        "colab": {
          "base_uri": "https://localhost:8080/"
        },
        "outputId": "b80fe758-e109-48a2-c84a-f75440fe36d0"
      },
      "execution_count": 5,
      "outputs": [
        {
          "output_type": "stream",
          "name": "stdout",
          "text": [
            "Epoch 1/5\n",
            "1875/1875 [==============================] - 38s 20ms/step - loss: 0.1398 - accuracy: 0.9568\n",
            "Epoch 2/5\n",
            "1875/1875 [==============================] - 37s 20ms/step - loss: 0.0493 - accuracy: 0.9851\n",
            "Epoch 3/5\n",
            "1875/1875 [==============================] - 37s 20ms/step - loss: 0.0359 - accuracy: 0.9888\n",
            "Epoch 4/5\n",
            "1875/1875 [==============================] - 37s 20ms/step - loss: 0.0261 - accuracy: 0.9919\n",
            "Epoch 5/5\n",
            "1875/1875 [==============================] - 37s 19ms/step - loss: 0.0222 - accuracy: 0.9931\n"
          ]
        },
        {
          "output_type": "execute_result",
          "data": {
            "text/plain": [
              "<keras.callbacks.History at 0x7f17e0805d90>"
            ]
          },
          "metadata": {},
          "execution_count": 5
        }
      ]
    },
    {
      "cell_type": "code",
      "source": [
        "# Silakan evaluate test data\n",
        "model.evaluate(test_data, test_label)\n",
        "print(model.evaluate)"
      ],
      "metadata": {
        "id": "me3mXCHm5diJ",
        "colab": {
          "base_uri": "https://localhost:8080/"
        },
        "outputId": "5c19409c-ab6b-4819-a240-9b8d1456c091"
      },
      "execution_count": 6,
      "outputs": [
        {
          "output_type": "stream",
          "name": "stdout",
          "text": [
            "313/313 [==============================] - 3s 8ms/step - loss: 0.0361 - accuracy: 0.9897\n",
            "<bound method Model.evaluate of <keras.engine.sequential.Sequential object at 0x7f17e1071ee0>>\n"
          ]
        }
      ]
    },
    {
      "cell_type": "code",
      "source": [
        "#save model menjadi .h5\n",
        "model.save('model2.h5')"
      ],
      "metadata": {
        "id": "iTxTaP8P5EFe"
      },
      "execution_count": 7,
      "outputs": []
    }
  ]
}