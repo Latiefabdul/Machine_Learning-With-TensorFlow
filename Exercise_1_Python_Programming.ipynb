{
  "nbformat": 4,
  "nbformat_minor": 0,
  "metadata": {
    "colab": {
      "provenance": [],
      "include_colab_link": true
    },
    "kernelspec": {
      "name": "python3",
      "display_name": "Python 3"
    },
    "language_info": {
      "name": "python"
    }
  },
  "cells": [
    {
      "cell_type": "markdown",
      "metadata": {
        "id": "view-in-github",
        "colab_type": "text"
      },
      "source": [
        "<a href=\"https://colab.research.google.com/github/Latiefabdul/Machine_Learning-With_TensorFlow/blob/main/Exercise_1_Python_Programming.ipynb\" target=\"_parent\"><img src=\"https://colab.research.google.com/assets/colab-badge.svg\" alt=\"Open In Colab\"/></a>"
      ]
    },
    {
      "cell_type": "markdown",
      "source": [
        "### **SOAL 1: Buatlah sebuah fungsi untuk menghitung volume balok**"
      ],
      "metadata": {
        "id": "QdJ_iu5Q57-r"
      }
    },
    {
      "cell_type": "code",
      "source": [
        "#Excercise\n",
        "#Buatlah sebuah fungsi untuk menghitung volume balok \n",
        "def volumeBalok(panjang,lebar,tinggi):\n",
        "  #rumus\n",
        "  volumeBalok = (panjang*lebar*tinggi)\n",
        "  #cetak hasil\n",
        "  print(\"Volume balok=\",volumeBalok)\n",
        "\n",
        "#panggil fungsi volume balok\n",
        "volumeBalok(7,3,4)"
      ],
      "metadata": {
        "colab": {
          "base_uri": "https://localhost:8080/"
        },
        "id": "ICzBqQ5Oz97t",
        "outputId": "1e7a40e3-cd94-4c8b-8f41-009b3875163b"
      },
      "execution_count": null,
      "outputs": [
        {
          "output_type": "stream",
          "name": "stdout",
          "text": [
            "Volume balok= 84 cm3\n"
          ]
        }
      ]
    },
    {
      "cell_type": "markdown",
      "source": [
        "### **SOAL 2: Buat program untuk menghitung jumlah seluruh angka ganjil dalam suatu list**\n",
        "### **Input: list berisi angka-angka**\n",
        "### **Output: jumlah seluruh angka ganjil** "
      ],
      "metadata": {
        "id": "-QqTP9WcEjmF"
      }
    },
    {
      "cell_type": "code",
      "execution_count": null,
      "metadata": {
        "colab": {
          "base_uri": "https://localhost:8080/"
        },
        "id": "8z8J4OQSCKPc",
        "outputId": "3569a8d5-c081-45a3-caa5-0d961654ba98"
      },
      "outputs": [
        {
          "output_type": "stream",
          "name": "stdout",
          "text": [
            "25\n"
          ]
        }
      ],
      "source": [
        "def sumganjil(listangka) :\n",
        "  jumlah = 0\n",
        "  for angka in listangka:\n",
        "    if(angka%2==1):\n",
        "      jumlah += angka\n",
        "  print(jumlah)\n",
        "\n",
        "angka = [1,2,3,4,5,6,7,8,9,10]\n",
        "sumganjil(angka)"
      ]
    },
    {
      "cell_type": "markdown",
      "source": [
        "### **SOAL 3: Diberikan input suatu angka, tampilkan formasi piramida bintang dengan tinggi sesuai dengan angka yang diinputkan**\n",
        "### **Input: suatu angka (n)**\n",
        "### **Output: piramida dengan tinggi n**"
      ],
      "metadata": {
        "id": "s5F4Y6Rm-8HK"
      }
    },
    {
      "cell_type": "code",
      "source": [
        "baris = 5\n",
        "n=0\n",
        "for i in range(1, baris+1):\n",
        "    for space in range(1, (baris-i)+1):\n",
        "        print(end=\"  \")\n",
        "   \n",
        "    while n!=(2*i-1):\n",
        "        print(\"* \", end=\"\")\n",
        "        n += 1\n",
        "   \n",
        "    n = 0\n",
        "    print()"
      ],
      "metadata": {
        "colab": {
          "base_uri": "https://localhost:8080/"
        },
        "id": "sm45jgziz8ne",
        "outputId": "66b57ca8-a75d-42a5-b207-b927a8a88661"
      },
      "execution_count": null,
      "outputs": [
        {
          "output_type": "stream",
          "name": "stdout",
          "text": [
            "        * \n",
            "      * * * \n",
            "    * * * * * \n",
            "  * * * * * * * \n",
            "* * * * * * * * * \n"
          ]
        }
      ]
    }
  ]
}